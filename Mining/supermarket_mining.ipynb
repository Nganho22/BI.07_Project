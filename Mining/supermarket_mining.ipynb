{
 "cells": [
  {
   "cell_type": "markdown",
   "metadata": {},
   "source": [
    "DATA MINING SUPERMARKET_SALES"
   ]
  },
  {
   "cell_type": "markdown",
   "metadata": {},
   "source": [
    "1. Liệu giới tính có liên quan đến loại sản phẩm được mua ? Dự đoán loại sản phẩm mà người phụ nữ tiếp theo sẽ mua."
   ]
  },
  {
   "cell_type": "code",
   "execution_count": 3,
   "metadata": {},
   "outputs": [],
   "source": [
    "import pandas as pd\n",
    "import matplotlib.pyplot as plt\n",
    "from scipy.stats import ttest_ind\n",
    "from scipy.stats import chi2_contingency\n",
    "from scipy.stats import f_oneway\n",
    "from sklearn.model_selection import train_test_split\n",
    "from sklearn.linear_model import LinearRegression\n",
    "from sklearn.preprocessing import OneHotEncoder\n",
    "from sklearn.compose import ColumnTransformer\n",
    "from sklearn.pipeline import Pipeline\n",
    "from sklearn.metrics import mean_squared_error\n",
    "from sklearn.linear_model import LogisticRegression\n"
   ]
  },
  {
   "cell_type": "code",
   "execution_count": 4,
   "metadata": {},
   "outputs": [
    {
     "data": {
      "text/html": [
       "<div>\n",
       "<style scoped>\n",
       "    .dataframe tbody tr th:only-of-type {\n",
       "        vertical-align: middle;\n",
       "    }\n",
       "\n",
       "    .dataframe tbody tr th {\n",
       "        vertical-align: top;\n",
       "    }\n",
       "\n",
       "    .dataframe thead th {\n",
       "        text-align: right;\n",
       "    }\n",
       "</style>\n",
       "<table border=\"1\" class=\"dataframe\">\n",
       "  <thead>\n",
       "    <tr style=\"text-align: right;\">\n",
       "      <th></th>\n",
       "      <th>Gender</th>\n",
       "      <th>Product Line</th>\n",
       "      <th>Quantity</th>\n",
       "      <th>Customer Type</th>\n",
       "      <th>Payment</th>\n",
       "      <th>Total</th>\n",
       "    </tr>\n",
       "  </thead>\n",
       "  <tbody>\n",
       "    <tr>\n",
       "      <th>0</th>\n",
       "      <td>Female</td>\n",
       "      <td>Health and beauty</td>\n",
       "      <td>7</td>\n",
       "      <td>Member</td>\n",
       "      <td>Ewallet</td>\n",
       "      <td>496.6885</td>\n",
       "    </tr>\n",
       "    <tr>\n",
       "      <th>1</th>\n",
       "      <td>Female</td>\n",
       "      <td>Home and lifestyle</td>\n",
       "      <td>6</td>\n",
       "      <td>Member</td>\n",
       "      <td>Ewallet</td>\n",
       "      <td>392.3880</td>\n",
       "    </tr>\n",
       "    <tr>\n",
       "      <th>2</th>\n",
       "      <td>Female</td>\n",
       "      <td>Health and beauty</td>\n",
       "      <td>2</td>\n",
       "      <td>Member</td>\n",
       "      <td>Credit card</td>\n",
       "      <td>68.8940</td>\n",
       "    </tr>\n",
       "    <tr>\n",
       "      <th>3</th>\n",
       "      <td>Female</td>\n",
       "      <td>Sports and travel</td>\n",
       "      <td>7</td>\n",
       "      <td>Member</td>\n",
       "      <td>Credit card</td>\n",
       "      <td>458.3845</td>\n",
       "    </tr>\n",
       "    <tr>\n",
       "      <th>4</th>\n",
       "      <td>Female</td>\n",
       "      <td>Electronic accessories</td>\n",
       "      <td>8</td>\n",
       "      <td>Member</td>\n",
       "      <td>Credit card</td>\n",
       "      <td>399.6840</td>\n",
       "    </tr>\n",
       "  </tbody>\n",
       "</table>\n",
       "</div>"
      ],
      "text/plain": [
       "   Gender            Product Line  Quantity Customer Type      Payment  \\\n",
       "0  Female       Health and beauty         7        Member      Ewallet   \n",
       "1  Female      Home and lifestyle         6        Member      Ewallet   \n",
       "2  Female       Health and beauty         2        Member  Credit card   \n",
       "3  Female       Sports and travel         7        Member  Credit card   \n",
       "4  Female  Electronic accessories         8        Member  Credit card   \n",
       "\n",
       "      Total  \n",
       "0  496.6885  \n",
       "1  392.3880  \n",
       "2   68.8940  \n",
       "3  458.3845  \n",
       "4  399.6840  "
      ]
     },
     "execution_count": 4,
     "metadata": {},
     "output_type": "execute_result"
    }
   ],
   "source": [
    "df1 = pd.read_excel(\"supermarket_mining.xlsx\", sheet_name= \"Câu 1\")\n",
    "df1 = df1.drop('InvoiceID_SK.Invoice ID SK', axis=1)\n",
    "mapping = {'Gender.Gender': 'Gender','Product Line.Product Line': 'Product Line',\n",
    "           'Customer Type.Customer Type': 'Customer Type',\n",
    "           'Payment.Payment Type':'Payment'}\n",
    "df1 = df1.rename(columns= mapping)\n",
    "df1.head()\n"
   ]
  },
  {
   "cell_type": "code",
   "execution_count": 12,
   "metadata": {},
   "outputs": [
    {
     "name": "stdout",
     "output_type": "stream",
     "text": [
      "Sử dụng Chi-square để xem giới tính và sản phẩm được mua có liên quan đến nhau hay không\n",
      "H0: Không có sự liên quan đáng kể giữa giới tính và loại sản phẩm được mua \n",
      "H1: Có ít nhất một sự khác bị đáng kể giữa giới tính và loại sản phẩm được mua\n",
      "Chi-square statistic: 3.3364\n",
      "P-value: 0.6483\n",
      "Không đủ bằng chứng để bác bỏ giả thiết H0: Không có sự ảnh hưởng đáng kể của giới tính đối với loại sản phẩm được mua.\n",
      "Giới tính và loại sản phẩm được mua không có sự liên quan đáng kể đến nhau\n"
     ]
    }
   ],
   "source": [
    "print(\"Sử dụng Chi-square để xem giới tính và sản phẩm được mua có liên quan đến nhau hay không\")\n",
    "print(\"H0: Không có sự liên quan đáng kể giữa giới tính và loại sản phẩm được mua \")\n",
    "print(\"H1: Có ít nhất một sự khác bị đáng kể giữa giới tính và loại sản phẩm được mua\")\n",
    "contingency_gender = pd.crosstab(df1['Gender'], df1['Product Line'])\n",
    "\n",
    "chi2, p, _, _ = chi2_contingency(contingency_gender)\n",
    "\n",
    "print(f'Chi-square statistic: {chi2:.4f}')\n",
    "print(f'P-value: {p:.4f}')\n",
    "\n",
    "alpha = 0.05\n",
    "if p < alpha:\n",
    "    print(\"Có đủ bằng chứng để bác bỏ giả thiết H0: Giới tính ảnh hưởng đến loại sản phẩm được mua.\")\n",
    "    print(\"Như vậy giới tính không có ảnh hưởng đến loại sản phẩm được mua\")\n",
    "else:\n",
    "    print(\"Không đủ bằng chứng để bác bỏ giả thiết H0: Không có sự ảnh hưởng đáng kể của giới tính đối với loại sản phẩm được mua.\")\n",
    "    print(\"Giới tính và loại sản phẩm được mua không có sự liên quan đáng kể đến nhau\")"
   ]
  },
  {
   "cell_type": "markdown",
   "metadata": {},
   "source": [
    "2. Cho một khách hàng có giới tính là Female, hiện đang là Member của siêu thị, và cô ấy có thói quen sử dụng Creadit card, dự đoán lần tiếp theo cô ấy mua hàng thì tổng giá trị đơn hàng là bao nhiêu"
   ]
  },
  {
   "cell_type": "code",
   "execution_count": 6,
   "metadata": {},
   "outputs": [
    {
     "name": "stdout",
     "output_type": "stream",
     "text": [
      "Độ lỗi: 43781.107192545\n",
      "Dự đoán cô ấy sẽ mua hàng có tổng giá tiền là: 288.0\n",
      "\n",
      "Ở mô hình hiện tại có độ lỗi rất cao, thế nên đây không phải là mô hình hoàn hảo, sẽ có sự chênh lệch lớn giữa giá trị dự đoán và giá trị thực tế\n",
      "Tuy nhiên, với dataset hiện tại ta không tìm được mô hình phù hợp hơn\n"
     ]
    }
   ],
   "source": [
    "\n",
    "features = ['Gender', 'Customer Type', 'Payment']\n",
    "target = 'Total'\n",
    "\n",
    "\n",
    "train_data, test_data = train_test_split(df1, test_size=0.2, random_state=42)\n",
    "\n",
    "preprocessor = ColumnTransformer(\n",
    "    transformers=[\n",
    "        ('cat', OneHotEncoder(), features)\n",
    "    ])\n",
    "\n",
    "model = Pipeline([\n",
    "    ('preprocessor', preprocessor),\n",
    "    ('regressor', LinearRegression())\n",
    "])\n",
    "\n",
    "\n",
    "model.fit(train_data[features], train_data[target])\n",
    "\n",
    "\n",
    "predictions = model.predict(test_data[features])\n",
    "\n",
    "\n",
    "mse = mean_squared_error(test_data[target], predictions)\n",
    "print(f'Độ lỗi: {mse}')\n",
    "\n",
    "new_data = pd.DataFrame({'Gender': ['Female'], 'Customer Type': ['Member'], 'Payment': ['Credit card']})\n",
    "prediction_new_data = model.predict(new_data)\n",
    "\n",
    "print(f'Dự đoán cô ấy sẽ mua hàng có tổng giá tiền là: {prediction_new_data[0]}')\n",
    "\n",
    "print('\\nỞ mô hình hiện tại có độ lỗi rất cao, thế nên đây không phải là mô hình hoàn hảo, sẽ có sự chênh lệch lớn giữa giá trị dự đoán và giá trị thực tế')\n",
    "print('Tuy nhiên, với dataset hiện tại ta không tìm được mô hình phù hợp hơn')"
   ]
  },
  {
   "cell_type": "markdown",
   "metadata": {},
   "source": [
    "3. Siêu thị chuẩn bị mở 1 chi nhánh D mới ở thành phố HCM, dự đoán doanh thu chi nhánh mới với dữ liệu support cho sẵn"
   ]
  },
  {
   "cell_type": "code",
   "execution_count": 7,
   "metadata": {},
   "outputs": [
    {
     "data": {
      "text/html": [
       "<div>\n",
       "<style scoped>\n",
       "    .dataframe tbody tr th:only-of-type {\n",
       "        vertical-align: middle;\n",
       "    }\n",
       "\n",
       "    .dataframe tbody tr th {\n",
       "        vertical-align: top;\n",
       "    }\n",
       "\n",
       "    .dataframe thead th {\n",
       "        text-align: right;\n",
       "    }\n",
       "</style>\n",
       "<table border=\"1\" class=\"dataframe\">\n",
       "  <thead>\n",
       "    <tr style=\"text-align: right;\">\n",
       "      <th></th>\n",
       "      <th>Branch</th>\n",
       "      <th>City</th>\n",
       "      <th>Gross Income</th>\n",
       "    </tr>\n",
       "  </thead>\n",
       "  <tbody>\n",
       "    <tr>\n",
       "      <th>0</th>\n",
       "      <td>A</td>\n",
       "      <td>Yangon</td>\n",
       "      <td>466498.540486</td>\n",
       "    </tr>\n",
       "    <tr>\n",
       "      <th>1</th>\n",
       "      <td>B</td>\n",
       "      <td>Mandalay</td>\n",
       "      <td>456669.704771</td>\n",
       "    </tr>\n",
       "    <tr>\n",
       "      <th>2</th>\n",
       "      <td>C</td>\n",
       "      <td>Naypyitaw</td>\n",
       "      <td>459304.461914</td>\n",
       "    </tr>\n",
       "  </tbody>\n",
       "</table>\n",
       "</div>"
      ],
      "text/plain": [
       "  Branch       City   Gross Income\n",
       "0      A     Yangon  466498.540486\n",
       "1      B   Mandalay  456669.704771\n",
       "2      C  Naypyitaw  459304.461914"
      ]
     },
     "execution_count": 7,
     "metadata": {},
     "output_type": "execute_result"
    }
   ],
   "source": [
    "df2 = pd.read_excel(\"supermarket_mining.xlsx\", sheet_name= \"Câu 2\")\n",
    "mapping = {'City.Branch': 'Branch','City.City': 'City','Gender.Gender': 'Gender'}\n",
    "df2 = df2.rename(columns= mapping)\n",
    "df2.head()\n",
    "\n",
    "\n"
   ]
  },
  {
   "cell_type": "code",
   "execution_count": 8,
   "metadata": {},
   "outputs": [
    {
     "data": {
      "text/html": [
       "<div>\n",
       "<style scoped>\n",
       "    .dataframe tbody tr th:only-of-type {\n",
       "        vertical-align: middle;\n",
       "    }\n",
       "\n",
       "    .dataframe tbody tr th {\n",
       "        vertical-align: top;\n",
       "    }\n",
       "\n",
       "    .dataframe thead th {\n",
       "        text-align: right;\n",
       "    }\n",
       "</style>\n",
       "<table border=\"1\" class=\"dataframe\">\n",
       "  <thead>\n",
       "    <tr style=\"text-align: right;\">\n",
       "      <th></th>\n",
       "      <th>City</th>\n",
       "      <th>Population</th>\n",
       "      <th>Female</th>\n",
       "      <th>Male</th>\n",
       "      <th>Rival</th>\n",
       "    </tr>\n",
       "  </thead>\n",
       "  <tbody>\n",
       "    <tr>\n",
       "      <th>0</th>\n",
       "      <td>HCM</td>\n",
       "      <td>7200</td>\n",
       "      <td>49</td>\n",
       "      <td>51</td>\n",
       "      <td>9</td>\n",
       "    </tr>\n",
       "    <tr>\n",
       "      <th>1</th>\n",
       "      <td>Mandalay</td>\n",
       "      <td>5000</td>\n",
       "      <td>30</td>\n",
       "      <td>70</td>\n",
       "      <td>5</td>\n",
       "    </tr>\n",
       "    <tr>\n",
       "      <th>2</th>\n",
       "      <td>Naypyitaw</td>\n",
       "      <td>6000</td>\n",
       "      <td>42</td>\n",
       "      <td>48</td>\n",
       "      <td>9</td>\n",
       "    </tr>\n",
       "    <tr>\n",
       "      <th>3</th>\n",
       "      <td>Yangon</td>\n",
       "      <td>7300</td>\n",
       "      <td>59</td>\n",
       "      <td>41</td>\n",
       "      <td>2</td>\n",
       "    </tr>\n",
       "  </tbody>\n",
       "</table>\n",
       "</div>"
      ],
      "text/plain": [
       "        City  Population  Female  Male  Rival\n",
       "0        HCM        7200      49    51      9\n",
       "1   Mandalay        5000      30    70      5\n",
       "2  Naypyitaw        6000      42    48      9\n",
       "3     Yangon        7300      59    41      2"
      ]
     },
     "execution_count": 8,
     "metadata": {},
     "output_type": "execute_result"
    }
   ],
   "source": [
    "df2_sp = pd.read_excel(\"supermarket_mining.xlsx\", sheet_name= \"Câu 2 support\")\n",
    "df2_sp = df2_sp.rename(columns= {'City.City':'City'})\n",
    "df2_sp.head()"
   ]
  },
  {
   "cell_type": "code",
   "execution_count": 9,
   "metadata": {},
   "outputs": [
    {
     "data": {
      "text/html": [
       "<div>\n",
       "<style scoped>\n",
       "    .dataframe tbody tr th:only-of-type {\n",
       "        vertical-align: middle;\n",
       "    }\n",
       "\n",
       "    .dataframe tbody tr th {\n",
       "        vertical-align: top;\n",
       "    }\n",
       "\n",
       "    .dataframe thead th {\n",
       "        text-align: right;\n",
       "    }\n",
       "</style>\n",
       "<table border=\"1\" class=\"dataframe\">\n",
       "  <thead>\n",
       "    <tr style=\"text-align: right;\">\n",
       "      <th></th>\n",
       "      <th>Branch</th>\n",
       "      <th>City</th>\n",
       "      <th>Gross Income</th>\n",
       "      <th>Population</th>\n",
       "      <th>Female</th>\n",
       "      <th>Male</th>\n",
       "      <th>Rival</th>\n",
       "    </tr>\n",
       "  </thead>\n",
       "  <tbody>\n",
       "    <tr>\n",
       "      <th>0</th>\n",
       "      <td>A</td>\n",
       "      <td>Yangon</td>\n",
       "      <td>466498.540486</td>\n",
       "      <td>7300</td>\n",
       "      <td>59</td>\n",
       "      <td>41</td>\n",
       "      <td>2</td>\n",
       "    </tr>\n",
       "    <tr>\n",
       "      <th>1</th>\n",
       "      <td>B</td>\n",
       "      <td>Mandalay</td>\n",
       "      <td>456669.704771</td>\n",
       "      <td>5000</td>\n",
       "      <td>30</td>\n",
       "      <td>70</td>\n",
       "      <td>5</td>\n",
       "    </tr>\n",
       "    <tr>\n",
       "      <th>2</th>\n",
       "      <td>C</td>\n",
       "      <td>Naypyitaw</td>\n",
       "      <td>459304.461914</td>\n",
       "      <td>6000</td>\n",
       "      <td>42</td>\n",
       "      <td>48</td>\n",
       "      <td>9</td>\n",
       "    </tr>\n",
       "  </tbody>\n",
       "</table>\n",
       "</div>"
      ],
      "text/plain": [
       "  Branch       City   Gross Income  Population  Female  Male  Rival\n",
       "0      A     Yangon  466498.540486        7300      59    41      2\n",
       "1      B   Mandalay  456669.704771        5000      30    70      5\n",
       "2      C  Naypyitaw  459304.461914        6000      42    48      9"
      ]
     },
     "execution_count": 9,
     "metadata": {},
     "output_type": "execute_result"
    }
   ],
   "source": [
    "df_combined = pd.merge(df2, df2_sp, on='City')\n",
    "df_combined.head()"
   ]
  },
  {
   "cell_type": "code",
   "execution_count": 10,
   "metadata": {},
   "outputs": [
    {
     "name": "stdout",
     "output_type": "stream",
     "text": [
      "Độ lỗi: 72444902.69759203\n",
      "Dự đoán doanh thu của chi nhánh mới: 457987.0833424933\n",
      "\n",
      " Tuy độ lỗi quá cao nhưng tạm chấp nhận vì dữ liệu không đầy đủ\n"
     ]
    }
   ],
   "source": [
    "\n",
    "features = ['Branch', 'City', 'Population', 'Female', 'Male', 'Rival']\n",
    "target = 'Gross Income'\n",
    "\n",
    "train_data, test_data = train_test_split(df_combined, test_size=0.2, random_state=42)\n",
    "\n",
    "preprocessor = ColumnTransformer(\n",
    "    transformers=[\n",
    "        ('cat', OneHotEncoder(handle_unknown='ignore'), ['Branch', 'City'])\n",
    "    ])\n",
    "\n",
    "model = Pipeline([\n",
    "    ('preprocessor', preprocessor),\n",
    "    ('regressor', LinearRegression())\n",
    "])\n",
    "\n",
    "model.fit(train_data[features], train_data[target])\n",
    "\n",
    "\n",
    "predictions = model.predict(test_data[features])\n",
    "\n",
    "\n",
    "mse = mean_squared_error(test_data[target], predictions)\n",
    "print(f'Độ lỗi: {mse}')\n",
    "\n",
    "HCM_DATA = df2_sp[df2_sp['City'] =='HCM']\n",
    "new_branch_data = pd.DataFrame({'Branch': ['D'], 'City': ['HCM'], 'Population': [HCM_DATA['Population']], 'Female': [HCM_DATA['Female']], 'Male': [HCM_DATA['Male']], 'Rival': [HCM_DATA['Rival']]})\n",
    "prediction_new_branch = model.predict(new_branch_data[features])\n",
    "\n",
    "print(f'Dự đoán doanh thu của chi nhánh mới: {prediction_new_branch[0]}')\n",
    "print('\\n Tuy độ lỗi quá cao nhưng tạm chấp nhận vì dữ liệu không đầy đủ')"
   ]
  }
 ],
 "metadata": {
  "kernelspec": {
   "display_name": "Python 3",
   "language": "python",
   "name": "python3"
  },
  "language_info": {
   "codemirror_mode": {
    "name": "ipython",
    "version": 3
   },
   "file_extension": ".py",
   "mimetype": "text/x-python",
   "name": "python",
   "nbconvert_exporter": "python",
   "pygments_lexer": "ipython3",
   "version": "3.10.5"
  }
 },
 "nbformat": 4,
 "nbformat_minor": 2
}
